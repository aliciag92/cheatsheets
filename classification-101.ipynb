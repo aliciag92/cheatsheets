{
 "cells": [
  {
   "attachments": {
    "image.png": {
     "image/png": "[encoded data removed]"
    }
   },
   "cell_type": "markdown",
   "metadata": {},
   "source": [
    "### Is this new observation A or B (or C, D, or E) (Classification)\n",
    "- https://ds.codeup.com/classification/overview/\n",
    "- Classification is a **supervised learning task**. That means we train on data w/ answers/labels\n",
    "- We train with answers/labels to produce a `decision rule` we'll use to classify future data.\n",
    "![image.png](attachment:image.png)\n",
    "- With classification, we use labeled data to train algorithms to classify future data points.\n",
    "- The training data allows us to train an algorithm to produce a decision rule\n",
    "- Using a boundary between points or a distance between points, we classify new datapoints into A or B (or C or D or E)"
   ]
  },
  {
   "cell_type": "markdown",
   "metadata": {},
   "source": [
    "### Vocab\n",
    "- **Classifier**: An algorithm that maps the input data to a specific category.\n",
    "\n",
    "- **Classification Model**: A series of steps that takes the patterns of input variables, generalizes those patterns, and applies them to new data in order to predict the class.\n",
    "\n",
    "- **Feature**: A feature, aka input/independent variable, is an individual measurable property of a phenomenon being observed.\n",
    "\n",
    "- **Binary Classification**: Classification with two possible outcomes, e.g. pass/fail.\n",
    "\n",
    "- **Multiclass Classification**: Classification with more than two classes, where each sample is assigned to one and only one target label, e.g. Grade levels of students in school (1st-12th)."
   ]
  },
  {
   "cell_type": "markdown",
   "metadata": {},
   "source": [
    "### Common Classification Algorithms\n",
    "- **Logistic Regression**\n",
    "    - (`sklearn.linear_model.LogisticRegression`)\n",
    "    - goal is to find the values for the coefficient that weight each input variable\n",
    "    - used to predict binary outcomes\n",
    "    - output is a value btwn 0 and 1 that represents the probability of one class over the other\n",
    "- **Decision Tree** \n",
    "    - (`sklearn.tree.DecisionTreeClassifier`)\n",
    "    - sequence of rules used to classify 2 or more classes\n",
    "    - each node represents a single *input variable (x)* and a split point or class of that variable.\n",
    "    - leaf nodes of the tree contain an *output variable (y)* (used to make a prediction).\n",
    "    - predictions are made by walking the splits of the tree until arriving at a leaf node and output the class value at the leaf node\n",
    "- **Naive Bayes** \n",
    "    - (`sklearn.naive_bayes.BernoulliNB`)\n",
    "    - assumes independence btwn every pair of features\n",
    "    - assumes each input variable is independent (which is often not the case)\n",
    "    - comprised of 2 types of probabilities that can be calculated directly from your training data:\n",
    "        - probability of each class\n",
    "        - conditional probability for each class given each x value\n",
    "- **K-Nearest Neighbors**\n",
    "    - (`sklearn.neighbors.KNeighborsClassifier`)\n",
    "    - makes predictions based on how close a *new* data point is to known data points\n",
    "    - measures distances between data points\n",
    "    - predictions are made for a new data point by searching through the entire training set for the K \n",
    "- **Random Forest**\n",
    "    - (`sklearn.ensemble.RandomForestClassifier`)\n",
    "    - similar to decision tree w/ whole bunch of trees w/ randomness\n",
    "        - outcome = aggregate of all the trees (ensemble algorithm)\n",
    "- **Support Vector Machine** \n",
    "    - (`sklearn.svm.SVC`)\n",
    "    - technique that uses higher dimensions to best separate data points into two classes\n",
    "    - **margin**: distance btwn the hyperplane and the closest data points\n",
    "    - the best or optimal hyperplane that can separate the two classes is the line that has the largest margin\n",
    "    - **support vectors**: points that are relevant in defining the hyperplane and in the construction of the classifier\n",
    "- **Stochastic Gradient Descent** \n",
    "    - (`sklearn.linear_model.SGDClassifier`)\n",
    "- **AdaBoost** \n",
    "    - (`sklearn.ensemble.AdaBoostClassifier`)\n",
    "- **Bagging** \n",
    "    - (`sklearn.ensemble.BaggingClassifier`)\n",
    "- **Gradient Boosting**\n",
    "    - (`sklearn.ensemble.GradientBoostingClassifier`)"
   ]
  },
  {
   "cell_type": "markdown",
   "metadata": {},
   "source": [
    "# Data Acquisition\n",
    "\n",
    "### From a Database:\n",
    "Create a Dataframe using a SQL query to access a database"
   ]
  },
  {
   "cell_type": "code",
   "execution_count": null,
   "metadata": {},
   "outputs": [],
   "source": [
    "# Import private info to keep it secret in public files.\n",
    "from env import host, password, user\n",
    "\n",
    "# Test query in Sequel Pro and save to a variable.\n",
    "sql_query = 'write your sql query here; test it in Sequel Pro first!'\n",
    "\n",
    "# Save connection url to a variable for use with pandas `read_sql()` function.\n",
    "connection_url = f'mysql+pymysql://{user}:{password}@{host}/database_name'\n",
    "\n",
    "# Python function to read data from database into a DataFrame.\n",
    "pd.read_sql(sql_query, connection_url)"
   ]
  },
  {
   "cell_type": "markdown",
   "metadata": {},
   "source": [
    "### From Files:"
   ]
  },
  {
   "cell_type": "code",
   "execution_count": null,
   "metadata": {},
   "outputs": [],
   "source": [
    "# Create Dataframe from a local csv file\n",
    "#**Note**: if you are working with a folder within your directory, \n",
    "#you have to specify ‘folder_name/file_name’\n",
    "df = pd.read_csv('file_path_or_folder/file_name.csv')\n",
    "\n",
    "#or\n",
    "df = pd.read_csv('file_name.csv')\n",
    "\n",
    "\n",
    "\n",
    "# Create DataFrame from an AWS S3 file. (amazon web services)\n",
    "df = pd.read_csv('https://s3.amazonaws.com/bucket_and_or_file_name.csv')\n",
    "\n",
    "\n",
    "\n",
    "\n",
    "# Create DataFrame from a Google sheet using its Share url.\n",
    "sheet_url = 'https://docs.google.com/spreadsheets/d/1Uhtml8KY19LILuZsrDtlsHHDC9wuDGUSe8LTEwvdI5g/edit#gid=341089357'\n",
    "\n",
    "csv_export_url = sheet_url.replace('/edit#gid=', '/export?format=csv&gid=')\n",
    "\n",
    "df = pd.read_csv(csv_export_url)"
   ]
  },
  {
   "cell_type": "markdown",
   "metadata": {},
   "source": [
    "### From your Clipboard\n",
    "Read copy-pasted tabular data and parse it into a Dataframe"
   ]
  },
  {
   "cell_type": "code",
   "execution_count": null,
   "metadata": {},
   "outputs": [],
   "source": [
    "# Default\n",
    "df = pd.read_clipboard(sep='\\\\s+', **kwargs)\n",
    "\n",
    "# Some examples of options I have.\n",
    "columns = ['column_1', 'column_2', 'column_3']\n",
    "df = pd.read_clipboard(sep=',', header=None, names=columns)"
   ]
  },
  {
   "cell_type": "markdown",
   "metadata": {},
   "source": [
    "### From an Excel Sheet\n",
    "Create a Dataframe based on the contents of an excel spreadsheet"
   ]
  },
  {
   "cell_type": "code",
   "execution_count": null,
   "metadata": {},
   "outputs": [],
   "source": [
    "#Stp 1: Download as Microsoft Excel file in Google Sheets \n",
    "#Stp 2: Move downloaded file to desired folder in order to load/read data\n",
    "pd.read_excel('file_name.xlsx')\n",
    "\n",
    "#specify sheet name\n",
    "pd.read_excel('file_name.xlsx', sheet_name='sheet_name') \n",
    "\n",
    "#specify sheet name and columns\n",
    "pd.read_excel('file_name.xlsx', sheet_name= 'sheet_name',  usecols=['col_name1', 'col_name2'])"
   ]
  },
  {
   "cell_type": "markdown",
   "metadata": {},
   "source": [
    "### From modules (Pydataset or Seaborn)"
   ]
  },
  {
   "cell_type": "code",
   "execution_count": null,
   "metadata": {},
   "outputs": [],
   "source": [
    "#pydataset\n",
    "from pydataset import data\n",
    "\n",
    "#show documentation\n",
    "data('dataset_name', show_doc=True)\n",
    "\n",
    "#show data\n",
    "df = data('dataset_name')\n",
    "df.head()"
   ]
  },
  {
   "cell_type": "code",
   "execution_count": null,
   "metadata": {},
   "outputs": [],
   "source": [
    "#seaborn\n",
    "import seaborn as sns\n",
    "\n",
    "#show data\n",
    "df = sns.load_dataset('dataset_name')\n",
    "df.head()"
   ]
  },
  {
   "cell_type": "markdown",
   "metadata": {},
   "source": [
    "### Important to:\n",
    "- use pandas methods and attributes to do some initial summarization and exploration of your data.\n",
    "    - `.head()`\n",
    "    - `.shape`\n",
    "    - `.info()`\n",
    "    - `.columns`\n",
    "    - `.dtypes`\n",
    "    - `.describe()`\n",
    "    - `.value_counts()`\n",
    "    \n",
    "- create functions that acquire data from database\n",
    "- save the data locally to CSV files (cache your data)\n",
    "- check for CSV files upon subsequent use.\n",
    "- create python module, acquire.py, that holds your functions that acquire the data you want to use and can be imported and called in other notebooks and scripts.\n",
    "\n",
    "\n",
    "\n",
    "\n",
    "\n",
    "- **Imports**:\n",
    "    - `import pandas as pd`\n",
    "    - `import numpy as np`\n",
    "    - `import os`\n",
    "\n",
    "- visualize:\n",
    "   - `import seaborn as sns`\n",
    "   - `import matplotlib.pyplot as plt`\n",
    "   - `plt.rc('figure', figsize=(11, 9))`\n",
    "   - `plt.rc('font', size=13)`\n",
    "\n",
    "- turn off pink warning boxes:\n",
    "   - `import warnings`\n",
    "   - `warnings.filterwarnings(\"ignore\")`\n",
    "\n",
    "- acquire:\n",
    "   - `from env import host, user, password`\n",
    "   - `from pydataset import data`"
   ]
  },
  {
   "cell_type": "code",
   "execution_count": null,
   "metadata": {},
   "outputs": [],
   "source": [
    "# Create helper function to get the necessary connection url.\n",
    "def get_connection(db, user=user, host=host, password=password):\n",
    "    '''\n",
    "    This function uses my info from my env file to\n",
    "    create a connection url to access the Codeup db.\n",
    "    '''\n",
    "    return f'mysql+pymysql://{user}:{password}@{host}/{db}'\n",
    "\n",
    "# Use the above helper function and a sql query in a single function.\n",
    "def get_db_data():\n",
    "    '''\n",
    "    This function reads data from the Codeup db into a df.\n",
    "    '''\n",
    "    sql_query = 'write your sql query here; test it in Sequel Pro first!'\n",
    "    return pd.read_sql(sql_query, get_connection('database_name'))"
   ]
  },
  {
   "cell_type": "markdown",
   "metadata": {},
   "source": [
    "### Caching Data\n",
    "\n",
    "- Caching or storing data you've retrieved from a database or website makes accessing it later much faster. Basically, cached data reduces load times.\n",
    "\n",
    "- We can design our acquire functions to get our data for us faster by reading in a csv file, if one exists, and if not, acquiring our data and creating a csv file for later use.\n",
    "\n",
    "- The `os.path.isfile()` method in Python is used to check whether a specified path is an existing file or not. It returns a boolean value.\n",
    "\n",
    "- https://github.com/CodeupClassroom/easley-classification-exercises/blob/main/classification_acquire_lesson.ipynb"
   ]
  },
  {
   "cell_type": "markdown",
   "metadata": {},
   "source": [
    "# Data Preparation\n",
    "https://ds.codeup.com/classification/prep/\n",
    "https://github.com/aliciag92/classification-exercises/blob/main/classification_prepare_lesson.ipynb\n",
    "## What are we doing and why\n",
    "**What**: Clean and tidy our data so that it is ready for exploration, analysis and modeling\n",
    "\n",
    "**Why**: Set ourselves up for certainty!\n",
    "\n",
    "- 1) Ensure that our observations will be sound:\n",
    "    - Validity of statistical and human observations\n",
    "- 2) Ensure that we will not have computational errors:\n",
    "    - non numerical data cells, nulls/NaNs\n",
    "- 3) Protect against overfitting:\n",
    "    - Ensure that have a split data structure prior to drawing conclusions\n",
    "\n",
    "**Input**: An aquired dataset (One Pandas Dataframe) ------> **Output**: Tidied and cleaned data split into Train,  Validate, and Test sets (Three Pandas Dataframes)\n",
    "\n",
    "\n",
    "**Processes**: Summarize the data ---> Clean the data ---> Split the data"
   ]
  },
  {
   "cell_type": "markdown",
   "metadata": {},
   "source": [
    "### Summarize\n",
    "- head(), describe(), info(), isnull(), value_counts(), shape, ...\n",
    "- plt.hist(), plt.boxplot()\n",
    "- document takeaways (nulls, datatypes to change, outliers, ideas for features, etc.)\n",
    "- imports:\n",
    "    - `import pandas as pd`\n",
    "    - `import numpy as np`\n",
    "    - `import matplotlib.pyplot as plt`\n",
    "\n",
    "    - `from sklearn.model_selection import train_test_split`\n",
    "    - `from sklearn.impute import SimpleImputer`\n",
    "\n",
    "    - `import warnings`\n",
    "    - `warnings.filterwarnings(\"ignore\")`\n",
    "\n",
    "    - `import acquire`"
   ]
  },
  {
   "cell_type": "markdown",
   "metadata": {},
   "source": [
    "### Clean\n",
    "- **missing values**: drop columns with too many missing values, drop rows with too many missing values, fill with zero where it makes sense, and then make note of any columns you want to impute missing values in (you will need to do that on split data).\n",
    "- **outlier**: an observation point that is distant from other observations https://www.theanalysisfactor.com/outliers-to-drop-or-not-to-drop/\n",
    "- **outliers**: ignore, drop rows, snap to a selected max/min value, create bins (cut, qcut)\n",
    "- **data errors**: drop the rows/observations with the errors, correct them to what it was intended\n",
    "- address **text normalization** issues...e.g. deck 'C' 'c'. (correct and standardize the text)\n",
    "- **tidy data**: getting your data in the shape it needs to be for modeling and exploring. every row should be an observation and every column should be a feature/attribute/variable. You want 1 observation per row, and 1 row per observation. If you want to predict a customer churn, each row should be a customer and each customer should be on only 1 row. (address duplicates, aggregate, melt, reshape, ...)\n",
    "- **creating new variables out of existing variables** (e.g. z = x - y)\n",
    "- **rename columns**\n",
    "- **datatypes**: need numeric data to be able to feed into model (**dummy vars, factor vars, manual encoding**)\n",
    "- **scale numeric data**: so that continuous variables have the same weight, are on the same units, if algorithm will be used that will be affected by the differing weights, or if data needs to be scaled to a gaussian/normal distribution for statistical testing. (linear scalers and non-linear scalers)"
   ]
  },
  {
   "cell_type": "markdown",
   "metadata": {},
   "source": [
    "### Train, Validate, Test Split\n",
    "- split our data into train, validate and test sample dataframes\n",
    "- Why? **overfitting**: model is not generalizable. It fits the data you've trained it on \"too well\". 3 points does not necessarily mean a parabola.\n",
    "- **train**: *in-sample*, explore, impute mean, scale numeric data (max() - min()...), fit our ml algorithms, test our models.\n",
    "- **validate, test**: represents future, unseen data\n",
    "- **validate**: confirm our top models have not overfit, test our top n models on unseen data. Using validate performance results, we pick the top **1** model.\n",
    "- **test**: *out-of-sample*, how we expect our top model to perform in production, on unseen data in the future. **ONLY USED ON 1 MODEL**.\n",
    "- You want to do all the prep that can be done on the full dataset before you split. Go through, work on DF for all you need to, then move to train when it's time. So you don't have to go back and forth, because that leads to errors and inconsistencies in data.\n",
    "\n",
    "> Should I do this on the full dataset or on the train sample?\n",
    "\n",
    "*this*: the action, method, function, step you are about to take on your data.\n",
    "\n",
    "- Are you comparing, looking at the relationship or summary stats or visualizations with 2+ variables?\n",
    "- Are you using an sklearn method?\n",
    "- Are you moving into the explore stage of the pipeline?\n",
    "\n",
    "\n",
    "If ONE or more of these is yes, then you should be doing it on your train sample. If ALL are no, then the entire dataset is fine."
   ]
  },
  {
   "cell_type": "markdown",
   "metadata": {},
   "source": [
    "### Option for Missing Values: Impute\n",
    "We can impute values using the mean, median, mode (most frequent), or a constant value. We will use `sklearn.imputer.SimpleImputer` to do this.\n",
    "\n",
    "1. Create the imputer object, selecting the strategy used to impute (mean, median or mode (strategy = 'most_frequent').\n",
    "2. Fit to train. This means compute the mean, median, or most_frequent (i.e. mode) for each of the columns that will be imputed. Store that value in the imputer object.\n",
    "3. Transform train: fill missing values in train dataset with that value identified\n",
    "4. Transform test: fill missing values with that value identified\n",
    "5. Create the SimpleImputer object, which we will store in the variable imputer. In the creation of the object, we will specify the strategy to use (mean, median, most_frequent). Essentially, this is creating the instructions and assigning them to a variable we will reference."
   ]
  },
  {
   "cell_type": "markdown",
   "metadata": {},
   "source": [
    "# Tidy Data\n",
    "### Vocab\n",
    "- **Value**: every value belongs to a variable and an observation.\n",
    "- **Variable**: a variable contains all values that measure the same underlying attribute (like height, temperature, duration) across units.\n",
    "- **Observation**: an observation contains all values measured on the same unit (like a person, or a day, or a race) across attributes.\n",
    "\n",
    "\n",
    "\n",
    "\n",
    "\n",
    "- Each **variable** forms a column.\n",
    "- Each **observation** forms a row.\n",
    "- Each cell has a single **value**.\n",
    "\n",
    "\n",
    "\n",
    "\n",
    "\n",
    "- Data is TABULAR, i.e. made up of rows and columns\n",
    "\n",
    "\n",
    "\n",
    "### Reshaping Data:\n",
    "- **Wide data** (alot of columns spread across) --> **Long Data** format (requires a *melt*)\n",
    "\n",
    "- **Long data** (alot of rows spread down) --> **Wide Data** format (requires a *pivot* or *spread*)\n",
    "\n",
    "\n",
    "### Tidying Messy datasets\n",
    "1. Column headers are values, not variable names.\n",
    "2. Multiple variables are stored in one column.\n",
    "3. Variables are stored in both rows and columns.\n",
    "4. Multiple types of observational units are stored in the same table.\n",
    "5. A single observational unit is stored in multiple tables."
   ]
  },
  {
   "cell_type": "markdown",
   "metadata": {},
   "source": [
    "## `pd.melt` arguments\n",
    "- `id_vars` = columns you want to **keep** (not melt)\n",
    "- `var_name` = name of **new column** you **created by melting columns**\n",
    "- `value_name` = column **name for resulting values**"
   ]
  },
  {
   "cell_type": "markdown",
   "metadata": {},
   "source": [
    "## `pd.pivot_table` arguments\n",
    "- `index` = columns you want to keep (not pivot)\n",
    "- `columns` = column you want **to pivot**\n",
    "- `values` = **values** we want to populate in the **new columns**\n",
    "- `aggfunct` = how you want to **aggregate** the **duplicate rows**"
   ]
  },
  {
   "cell_type": "markdown",
   "metadata": {},
   "source": [
    "https://github.com/aliciag92/classification-exercises"
   ]
  }
 ],
 "metadata": {
  "kernelspec": {
   "display_name": "Python 3",
   "language": "python",
   "name": "python3"
  },
  "language_info": {
   "codemirror_mode": {
    "name": "ipython",
    "version": 3
   },
   "file_extension": ".py",
   "mimetype": "text/x-python",
   "name": "python",
   "nbconvert_exporter": "python",
   "pygments_lexer": "ipython3",
   "version": "3.8.5"
  }
 },
 "nbformat": 4,
 "nbformat_minor": 4
}
