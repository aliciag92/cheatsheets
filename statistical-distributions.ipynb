{
 "cells": [
  {
   "cell_type": "markdown",
   "metadata": {},
   "source": [
    "# Working With Statistical Distributions\n",
    "`from scipy import stats\n",
    "from scipy.stats import norm, binom`\n",
    "\n",
    "## PDF / PMF\n",
    "Probability our random variable takes on a given value.\n",
    "\n",
    "\n",
    "- **pdf** : probability density function, for continuous distributions\n",
    "- **pmf** : probability mass function, for discrete distributions\n",
    "\n",
    "\n",
    "## CDF & PPF\n",
    "Probability our random variable takes on a value less than or equal to\n",
    "a given point.\n",
    "\n",
    "- **cdf** : cumulative density function, given a value, what's the probability?\n",
    "- **ppf** : percent point function, given a probability, what's the value?\n",
    "\n",
    "## SF & ISF\n",
    "Probability our random variable takes on a value greater than a given\n",
    "point.\n",
    "\n",
    "- **sf** : survival function, given a value, what's the probability? (excluding the point)\n",
    "- **isf** : inverse survival function, given a probability, what's the value?\n",
    "\n",
    "\n"
   ]
  },
  {
   "cell_type": "markdown",
   "metadata": {},
   "source": [
    "### Scipy lets us specify parameters for the various distributions and then use the functions outlined above\n",
    "\n",
    "- A **normal distribution** with µ = 70, σ = 8\n",
    "\n",
    "`my_normal_distribution = norm(70, 8)`\n",
    "\n",
    "   - What's the likelihook the value is over 80?\n",
    "    \n",
    "    `my_normal_distribution.sf(80)`\n",
    "    \n",
    "   - What value is the cutoff point for the bottom 30%?\n",
    "    \n",
    "    `my_normal_distribution.ppf(.3)`\n",
    "    \n",
    "- A **binomial distribution** with n = 10, p = .3\n",
    "\n",
    "`my_binomial_distribution = binom(10, .3)`\n",
    "   \n",
    "   - What's the likelihood of 5 or less successes?\n",
    "    \n",
    "    `my_binomial_distribution.cdf(5)`\n",
    "   \n",
    "   - What's the probability of exactly 4 successes?\n",
    "   \n",
    "   `my_binomial_distribution.pmf(4)`"
   ]
  }
 ],
 "metadata": {
  "kernelspec": {
   "display_name": "Python 3",
   "language": "python",
   "name": "python3"
  },
  "language_info": {
   "codemirror_mode": {
    "name": "ipython",
    "version": 3
   },
   "file_extension": ".py",
   "mimetype": "text/x-python",
   "name": "python",
   "nbconvert_exporter": "python",
   "pygments_lexer": "ipython3",
   "version": "3.8.5"
  }
 },
 "nbformat": 4,
 "nbformat_minor": 4
}
